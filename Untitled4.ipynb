{
  "nbformat": 4,
  "nbformat_minor": 0,
  "metadata": {
    "colab": {
      "provenance": [],
      "authorship_tag": "ABX9TyPDp+Rk90EKjn/5dmyYNTwm",
      "include_colab_link": true
    },
    "kernelspec": {
      "name": "python3",
      "display_name": "Python 3"
    },
    "language_info": {
      "name": "python"
    }
  },
  "cells": [
    {
      "cell_type": "markdown",
      "metadata": {
        "id": "view-in-github",
        "colab_type": "text"
      },
      "source": [
        "<a href=\"https://colab.research.google.com/github/yuchuanlo/-2/blob/main/Untitled4.ipynb\" target=\"_parent\"><img src=\"https://colab.research.google.com/assets/colab-badge.svg\" alt=\"Open In Colab\"/></a>"
      ]
    },
    {
      "cell_type": "code",
      "execution_count": null,
      "metadata": {
        "id": "3gDpKh520BWk"
      },
      "outputs": [],
      "source": [
        "def bubble_sort(arr):\n",
        "  n=len(arr)\n",
        "  for i in range(n):\n",
        "    for j in range(0,n-i-1):\n",
        "      if arr[j]>arr[j+1]:\n",
        "        arr[j],arr[j+1]=arr[j+1],arr[j]\n",
        "    print(\"第{}次歷遍後排序結果{}\".format(i,arr))\n",
        "  print(\"bubble sort厚的數列：\")\n",
        "  print(arr)\n",
        "def insertion_sort(arr):\n",
        "  n=len(arr)\n",
        "  for i in range(1,n):\n",
        "    key=arr[i]\n",
        "    j=i-1\n",
        "    while j>=0and key<arr[j]:\n",
        "      arr[j+1]=arr[j]\n",
        "      j-=1\n",
        "    arr[j+1]=key\n",
        "    print(\"第{}次歷遍後排序結果{}\".format(i,arr))\n",
        "  print(\"insertion sort 厚的數列：\")\n",
        "  print(arr)\n",
        "def quicksort(data, left, right):\n",
        "    if left >= right :\n",
        "        return\n",
        "    i = left\n",
        "    j = right\n",
        "    key = data[left]\n",
        "    while i != j:\n",
        "        while data[j] > key and i < j:\n",
        "            j -= 1\n",
        "        while data[i] <= key and i < j:\n",
        "            i += 1\n",
        "        if i < j:\n",
        "            data[i], data[j] = data[j], data[i]\n",
        "    data[left] = data[i]\n",
        "    data[i] = key\n",
        "\n",
        "    quicksort(data, left, i-1)\n",
        "    quicksort(data, i+1, right)\n",
        "\n",
        "quicksort(data, 0, len(data)-1)\n",
        "print(data)\n",
        "def merge(left, right):\n",
        "    result = []\n",
        "\n",
        "    while len(left) and len(right):\n",
        "        if (left[0] < right[0]):\n",
        "            result.append(left.pop(0))\n",
        "        else:\n",
        "            result.append(right.pop(0))\n",
        "\n",
        "    result = result+left if len(left) else result+right\n",
        "    return result\n",
        "\n",
        "def mergeSort(array):\n",
        "    if len(array) < 2:\n",
        "        return array\n",
        "\n",
        "    mid = len(array)//2\n",
        "    leftArray = array[:mid]\n",
        "    rightArray = array[mid:]\n",
        "\n",
        "    return merge(mergeSort(leftArray),mergeSort(rightArray))\n",
        "\n",
        "print(mergeSort(data))\n",
        "\n"
      ]
    },
    {
      "cell_type": "code",
      "source": [],
      "metadata": {
        "id": "u-u41BzR3EPw"
      },
      "execution_count": null,
      "outputs": []
    }
  ]
}