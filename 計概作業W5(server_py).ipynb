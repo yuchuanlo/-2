{
  "cells": [
    {
      "cell_type": "markdown",
      "metadata": {
        "id": "view-in-github",
        "colab_type": "text"
      },
      "source": [
        "<a href=\"https://colab.research.google.com/github/yuchuanlo/-2/blob/main/%E8%A8%88%E6%A6%82%E4%BD%9C%E6%A5%ADW5(server_py).ipynb\" target=\"_parent\"><img src=\"https://colab.research.google.com/assets/colab-badge.svg\" alt=\"Open In Colab\"/></a>"
      ]
    },
    {
      "cell_type": "code",
      "execution_count": null,
      "metadata": {
        "colab": {
          "background_save": true,
          "base_uri": "https://localhost:8080/"
        },
        "id": "RRp1DfVzP0a6",
        "outputId": "c404f592-975f-40d0-948e-55d8e2d4c2ba"
      },
      "outputs": [
        {
          "output_type": "stream",
          "name": "stdout",
          "text": [
            "server start at: 0.0.0.0:7000\n",
            "wait for connection...\n"
          ]
        }
      ],
      "source": [
        "import socket\n",
        "\n",
        "HOST = '0.0.0.0'\n",
        "PORT = 7000\n",
        "\n",
        "s = socket.socket(socket.AF_INET, socket.SOCK_STREAM)\n",
        "s.setsockopt(socket.SOL_SOCKET, socket.SO_REUSEADDR, 1)\n",
        "s.bind((HOST, PORT))\n",
        "s.listen(5)\n",
        "\n",
        "print('server start at: %s:%s' % (HOST, PORT))\n",
        "print('wait for connection...')\n",
        "\n",
        "while True:\n",
        "    conn, addr = s.accept()\n",
        "    print('connected by ' + str(addr))\n",
        "\n",
        "    while True:\n",
        "        indata = conn.recv(1024)\n",
        "        if len(indata) == 0: # connection closed\n",
        "            conn.close()\n",
        "            print('client closed connection.')\n",
        "            break\n",
        "        print('recv: ' + indata.decode())\n",
        "\n",
        "        outdata = 'echo ' + indata.decode()\n",
        "        conn.send(outdata.encode())\n",
        "s.close()"
      ]
    }
  ],
  "metadata": {
    "colab": {
      "provenance": [],
      "authorship_tag": "ABX9TyN4tniUIxxMBtz2Yy3J90+6",
      "include_colab_link": true
    },
    "kernelspec": {
      "display_name": "Python 3",
      "name": "python3"
    },
    "language_info": {
      "name": "python"
    }
  },
  "nbformat": 4,
  "nbformat_minor": 0
}