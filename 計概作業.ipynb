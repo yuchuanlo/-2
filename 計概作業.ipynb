{
  "nbformat": 4,
  "nbformat_minor": 0,
  "metadata": {
    "colab": {
      "provenance": [],
      "authorship_tag": "ABX9TyOPDc3AzNKth/Wxtf+L9T8v",
      "include_colab_link": true
    },
    "kernelspec": {
      "name": "python3",
      "display_name": "Python 3"
    },
    "language_info": {
      "name": "python"
    }
  },
  "cells": [
    {
      "cell_type": "markdown",
      "metadata": {
        "id": "view-in-github",
        "colab_type": "text"
      },
      "source": [
        "<a href=\"https://colab.research.google.com/github/yuchuanlo/-2/blob/main/%E8%A8%88%E6%A6%82%E4%BD%9C%E6%A5%AD.ipynb\" target=\"_parent\"><img src=\"https://colab.research.google.com/assets/colab-badge.svg\" alt=\"Open In Colab\"/></a>"
      ]
    },
    {
      "cell_type": "code",
      "source": [
        "def memory_addressing(page_table,page_size,logical_address):\n",
        "  page_number,offset=divmod(logical_address,page_size)\n",
        "  if page_number in page_table:\n",
        "    frame_number=page_table[page_number]\n",
        "    physical_address=frame_number*page_size+offset\n",
        "    print(f\"The physical address is{physical_address}\")\n",
        "  else:\n",
        "    print(\"Invalid page number,address translation faild.\")"
      ],
      "metadata": {
        "id": "VA3FxmIKUAa0"
      },
      "execution_count": 11,
      "outputs": []
    },
    {
      "cell_type": "code",
      "source": [
        "def memory_addressing(page_table,page_size,logical_address):\n",
        "  page_number,offset=divmod(logical_address,page_size)\n",
        "  if page_number in page_table:\n",
        "    frame_number=page_table[page_number]\n",
        "    physical_address=frame_number*page_size+offset\n",
        "    print(f\"The physical address is{physical_address}\")\n",
        "  else:\n",
        "    print(\"Invalid page number,address translation faild.\")\n",
        "\n",
        "print(memory_addressing({0:5,1:9,2:14},4096,7000))"
      ],
      "metadata": {
        "colab": {
          "base_uri": "https://localhost:8080/"
        },
        "id": "tscLsGGIQd9D",
        "outputId": "62ee5ba6-6f33-4fd2-d40e-ada294cbe575"
      },
      "execution_count": 12,
      "outputs": [
        {
          "output_type": "stream",
          "name": "stdout",
          "text": [
            "The physical address is39768\n",
            "None\n"
          ]
        }
      ]
    },
    {
      "cell_type": "code",
      "source": [
        "def memory_addressing(page_table,page_size,logical_address):\n",
        "  page_number,offset=divmod(logical_address,page_size)\n",
        "  if page_number in page_table:\n",
        "    frame_number=page_table[page_number]\n",
        "    physical_address=frame_number*page_size+offset\n",
        "    print(f\"The physical address is{physical_address}\")\n",
        "  else:\n",
        "    print(\"Invalid page number,address translation faild.\")\n",
        "\n",
        "logical_adress=input(\"logical address:\")\n",
        "logical_adress=int(logical_adress)\n",
        "\n",
        "print(memory_addressing({0:5,1:9,2:14},4096,logical_adress))"
      ],
      "metadata": {
        "colab": {
          "base_uri": "https://localhost:8080/"
        },
        "outputId": "2dfd5f5c-ff46-42bb-ff1c-1bcd9bb1833f",
        "id": "xtaA7gFKSJ8k"
      },
      "execution_count": 22,
      "outputs": [
        {
          "output_type": "stream",
          "name": "stdout",
          "text": [
            "logical address:7000\n",
            "The physical address is39768\n",
            "None\n"
          ]
        }
      ]
    },
    {
      "cell_type": "code",
      "source": [
        "def memory_addressing(page_table,page_size,logical_address):(0,4096,7000)\n",
        "page_number,offset=divmod(logical_address,page_size)\n",
        "if page_number in page_table:\n",
        "  frame_number=page_table[page_number]\n",
        "  print(frame_number)"
      ],
      "metadata": {
        "colab": {
          "base_uri": "https://localhost:8080/"
        },
        "id": "Msh0vysebLWK",
        "outputId": "1c1ee6ef-13ef-4fc2-bfdb-e89712faf15c"
      },
      "execution_count": null,
      "outputs": [
        {
          "output_type": "stream",
          "name": "stdout",
          "text": [
            "9\n"
          ]
        }
      ]
    },
    {
      "cell_type": "code",
      "source": [
        "def memory_addressing(page_table,page_size,logical_adress):(1,4096,int(input(\"logical address:\")))\n",
        "page_table={0:5,1:9,2:14}\n",
        "page_number,offset=divmod(logical_address,page_size)\n",
        "if (\"page_number\") in page_table:\n",
        "  frame_number=page_table[page_number]\n",
        "  physical_address=frame_number*page_size+offset\n",
        "  print(f\"The physical address is{physical_address}\")\n",
        "else:\n",
        "  print(\"Invalid page number,address translation faild.\")"
      ],
      "metadata": {
        "colab": {
          "base_uri": "https://localhost:8080/",
          "height": 250
        },
        "outputId": "c453ef96-d537-4468-cdb9-89116ad81968",
        "id": "FYcVjwLHMsYw"
      },
      "execution_count": 5,
      "outputs": [
        {
          "output_type": "error",
          "ename": "NameError",
          "evalue": "ignored",
          "traceback": [
            "\u001b[0;31m---------------------------------------------------------------------------\u001b[0m",
            "\u001b[0;31mNameError\u001b[0m                                 Traceback (most recent call last)",
            "\u001b[0;32m<ipython-input-5-fb4dbc9dc2a7>\u001b[0m in \u001b[0;36m<cell line: 3>\u001b[0;34m()\u001b[0m\n\u001b[1;32m      1\u001b[0m \u001b[0;32mdef\u001b[0m \u001b[0mmemory_addressing\u001b[0m\u001b[0;34m(\u001b[0m\u001b[0mpage_table\u001b[0m\u001b[0;34m,\u001b[0m\u001b[0mpage_size\u001b[0m\u001b[0;34m,\u001b[0m\u001b[0mlogical_adress\u001b[0m\u001b[0;34m)\u001b[0m\u001b[0;34m:\u001b[0m\u001b[0;34m(\u001b[0m\u001b[0;36m1\u001b[0m\u001b[0;34m,\u001b[0m\u001b[0;36m4096\u001b[0m\u001b[0;34m,\u001b[0m\u001b[0mint\u001b[0m\u001b[0;34m(\u001b[0m\u001b[0minput\u001b[0m\u001b[0;34m(\u001b[0m\u001b[0;34m\"logical address:\"\u001b[0m\u001b[0;34m)\u001b[0m\u001b[0;34m)\u001b[0m\u001b[0;34m)\u001b[0m\u001b[0;34m\u001b[0m\u001b[0;34m\u001b[0m\u001b[0m\n\u001b[1;32m      2\u001b[0m \u001b[0mpage_table\u001b[0m\u001b[0;34m=\u001b[0m\u001b[0;34m{\u001b[0m\u001b[0;36m0\u001b[0m\u001b[0;34m:\u001b[0m\u001b[0;36m5\u001b[0m\u001b[0;34m,\u001b[0m\u001b[0;36m1\u001b[0m\u001b[0;34m:\u001b[0m\u001b[0;36m9\u001b[0m\u001b[0;34m,\u001b[0m\u001b[0;36m2\u001b[0m\u001b[0;34m:\u001b[0m\u001b[0;36m14\u001b[0m\u001b[0;34m}\u001b[0m\u001b[0;34m\u001b[0m\u001b[0;34m\u001b[0m\u001b[0m\n\u001b[0;32m----> 3\u001b[0;31m \u001b[0mpage_number\u001b[0m\u001b[0;34m,\u001b[0m\u001b[0moffset\u001b[0m\u001b[0;34m=\u001b[0m\u001b[0mdivmod\u001b[0m\u001b[0;34m(\u001b[0m\u001b[0mlogical_address\u001b[0m\u001b[0;34m,\u001b[0m\u001b[0mpage_size\u001b[0m\u001b[0;34m)\u001b[0m\u001b[0;34m\u001b[0m\u001b[0;34m\u001b[0m\u001b[0m\n\u001b[0m\u001b[1;32m      4\u001b[0m \u001b[0;32mif\u001b[0m \u001b[0;34m(\u001b[0m\u001b[0;34m\"page_number\"\u001b[0m\u001b[0;34m)\u001b[0m \u001b[0;32min\u001b[0m \u001b[0mpage_table\u001b[0m\u001b[0;34m:\u001b[0m\u001b[0;34m\u001b[0m\u001b[0;34m\u001b[0m\u001b[0m\n\u001b[1;32m      5\u001b[0m   \u001b[0mframe_number\u001b[0m\u001b[0;34m=\u001b[0m\u001b[0mpage_table\u001b[0m\u001b[0;34m[\u001b[0m\u001b[0mpage_number\u001b[0m\u001b[0;34m]\u001b[0m\u001b[0;34m\u001b[0m\u001b[0;34m\u001b[0m\u001b[0m\n",
            "\u001b[0;31mNameError\u001b[0m: name 'logical_address' is not defined"
          ]
        }
      ]
    }
  ]
}