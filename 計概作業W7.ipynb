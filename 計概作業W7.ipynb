{
  "nbformat": 4,
  "nbformat_minor": 0,
  "metadata": {
    "colab": {
      "provenance": [],
      "authorship_tag": "ABX9TyNO5Z66q2k21d1zIEYPbssg",
      "include_colab_link": true
    },
    "kernelspec": {
      "name": "python3",
      "display_name": "Python 3"
    },
    "language_info": {
      "name": "python"
    }
  },
  "cells": [
    {
      "cell_type": "markdown",
      "metadata": {
        "id": "view-in-github",
        "colab_type": "text"
      },
      "source": [
        "<a href=\"https://colab.research.google.com/github/yuchuanlo/-2/blob/main/%E8%A8%88%E6%A6%82%E4%BD%9C%E6%A5%ADW7.ipynb\" target=\"_parent\"><img src=\"https://colab.research.google.com/assets/colab-badge.svg\" alt=\"Open In Colab\"/></a>"
      ]
    },
    {
      "cell_type": "code",
      "execution_count": 1,
      "metadata": {
        "id": "7WfwbCbItC8C"
      },
      "outputs": [],
      "source": [
        "import re\n",
        "class SimpleLexer(object):\n",
        "  def _init_(self):\n",
        "    self.token_rules=[\n",
        "        ('NUMBER',r'\\d+'),\n",
        "        ('PLUS',r'\\+'),\n",
        "        ('MINUS',r'-'),\n",
        "        ('MULTIPLY',r'\\*'),\n",
        "        ('DIVID',r'/'),\n",
        "        ('LPAREN',r'\\('),\n",
        "        ('RPAREN',r'\\)'),\n",
        "        ('WS',r'\\s+'),\n",
        "    ]\n",
        "    self.token_regex='|'.join('(?P<%s>%s)' % pair for pair in self.token_rules)\n",
        "    self.re_token_regex=re.compile(self.token_regex)\n",
        "  def tokenize(self,code):\n",
        "    for mo in self.re_token_regex.finditer(code):\n",
        "      kind=mo.lastgroup\n",
        "      value=mo.group()\n",
        "      if kind=='NUMBER':\n",
        "        value=int(value)\n",
        "      elif kind=='WS':\n",
        "        continue\n",
        "      yield kind, value"
      ]
    }
  ]
}