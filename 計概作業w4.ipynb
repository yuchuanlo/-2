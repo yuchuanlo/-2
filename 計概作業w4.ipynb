{
  "nbformat": 4,
  "nbformat_minor": 0,
  "metadata": {
    "colab": {
      "provenance": [],
      "authorship_tag": "ABX9TyOSOEEjCf12WCdoUldDYUde",
      "include_colab_link": true
    },
    "kernelspec": {
      "name": "python3",
      "display_name": "Python 3"
    },
    "language_info": {
      "name": "python"
    }
  },
  "cells": [
    {
      "cell_type": "markdown",
      "metadata": {
        "id": "view-in-github",
        "colab_type": "text"
      },
      "source": [
        "<a href=\"https://colab.research.google.com/github/yuchuanlo/-2/blob/main/%E8%A8%88%E6%A6%82%E4%BD%9C%E6%A5%ADw4.ipynb\" target=\"_parent\"><img src=\"https://colab.research.google.com/assets/colab-badge.svg\" alt=\"Open In Colab\"/></a>"
      ]
    },
    {
      "cell_type": "code",
      "execution_count": 1,
      "metadata": {
        "colab": {
          "base_uri": "https://localhost:8080/"
        },
        "outputId": "ff79f847-e125-4188-bb08-e68dc5ab4e80",
        "id": "FL_Be9sPZltp"
      },
      "outputs": [
        {
          "output_type": "stream",
          "name": "stdout",
          "text": [
            "表格內容：\n",
            "(None, 'chicken', 30, 30)\n",
            "(None, 'beaf', 55, 10)\n",
            "(None, 'pork', 35, 15)\n",
            "表格內容：\n",
            "(None, 'chicken', 30, 30)\n",
            "(None, 'beaf', 55, 10)\n",
            "(None, 'pork', 35, 15)\n"
          ]
        }
      ],
      "source": [
        "import sqlite3\n",
        "conn=sqlite3.connect('BBQ')\n",
        "cursor=conn.cursor()\n",
        "cursor.execute('''\n",
        "    CREATE TABLE IF NOT EXISTS BBQ(\n",
        "      id INTERGER PRIMARY KEY,\n",
        "      name TEXT,\n",
        "      price INTERGER,\n",
        "      quantity INTERGER\n",
        "    )''')\n",
        "cursor.execute(\"INSERT INTO BBQ (name,price,quantity) VALUES ('chicken',30,5)\")\n",
        "cursor.execute(\"INSERT INTO BBQ (name,price,quantity) VALUES ('beaf',55,10)\")\n",
        "cursor.execute(\"INSERT INTO BBQ (name,price,quantity) VALUES ('pork',40,15)\")\n",
        "conn.commit()\n",
        "\n",
        "cursor.execute(\"UPDATE BBQ SET price=35 WHERE name= 'pork'\")\n",
        "cursor.execute(\"UPDATE BBQ SET quantity=30 WHERE name= 'chicken'\")\n",
        "conn.commit()\n",
        "\n",
        "cursor.execute(\"SELECT * FROM BBQ\")\n",
        "BBQ=cursor.fetchall()\n",
        "print(\"表格內容：\")\n",
        "for BBQ in BBQ:\n",
        "  print(BBQ)\n",
        "\n",
        "cursor.execute(\"DELETE FROM BBQ WHERE price = 40\")\n",
        "conn.commit()\n",
        "\n",
        "cursor.execute(\"SELECT * FROM BBQ\")\n",
        "BBQ=cursor.fetchall()\n",
        "print(\"表格內容：\")\n",
        "for BBQ in BBQ:\n",
        "  print(BBQ)\n",
        "\n",
        "cursor.close()\n",
        "conn.close()"
      ]
    }
  ]
}